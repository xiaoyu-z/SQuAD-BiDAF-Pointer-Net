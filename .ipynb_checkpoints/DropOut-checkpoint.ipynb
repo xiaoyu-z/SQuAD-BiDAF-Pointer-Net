{
 "cells": [
  {
   "cell_type": "code",
   "execution_count": null,
   "metadata": {
    "collapsed": true
   },
   "outputs": [],
   "source": [
    "import tensorflow as tf\n",
    "from tensorflow.contrib.rnn import DropoutWrapper, RNNCell, LSTMStateTuple\n",
    "\n",
    "from my.tensorflow import exp_mask, flatten\n",
    "from my.tensorflow.nn import linear, softsel, double_linear_logits\n",
    "\n",
    "\n",
    "class SwitchableDropoutWrapper(DropoutWrapper):\n",
    "    def __init__(self, cell, is_train, input_keep_prob=1.0, output_keep_prob=1.0,\n",
    "             seed=None):\n",
    "        super(SwitchableDropoutWrapper, self).__init__(cell, input_keep_prob=input_keep_prob, output_keep_prob=output_keep_prob,\n",
    "                                                       seed=seed)\n",
    "        self.is_train = is_train\n",
    "\n",
    "    def __call__(self, inputs, state, scope=None):\n",
    "        outputs_do, new_state_do = super(SwitchableDropoutWrapper, self).__call__(inputs, state, scope=scope)\n",
    "        tf.get_variable_scope().reuse_variables()\n",
    "        outputs, new_state = self._cell(inputs, state, scope)\n",
    "        outputs = tf.cond(self.is_train, lambda: outputs_do, lambda: outputs)\n",
    "        if isinstance(state, tuple):\n",
    "            new_state = state.__class__(*[tf.cond(self.is_train, lambda: new_state_do_i, lambda: new_state_i)\n",
    "                                          for new_state_do_i, new_state_i in zip(new_state_do, new_state)])\n",
    "        else:\n",
    "            new_state = tf.cond(self.is_train, lambda: new_state_do, lambda: new_state)\n",
    "        return outputs, new_state"
   ]
  }
 ],
 "metadata": {
  "kernelspec": {
   "display_name": "Python 3",
   "language": "python",
   "name": "python3"
  },
  "language_info": {
   "codemirror_mode": {
    "name": "ipython",
    "version": 3
   },
   "file_extension": ".py",
   "mimetype": "text/x-python",
   "name": "python",
   "nbconvert_exporter": "python",
   "pygments_lexer": "ipython3",
   "version": "3.6.1"
  }
 },
 "nbformat": 4,
 "nbformat_minor": 2
}
